{
 "cells": [
  {
   "cell_type": "markdown",
   "metadata": {
    "deletable": true,
    "editable": true
   },
   "source": [
    "In case of a binary classification problem, ROC curve tells us how good the model is able to classify as we vary the classification threshold (decision threshold). \n",
    "\n",
    "Say, we have observations belonging to either of the two classes A & B and we built a classification model that outputs the probability of an observation (whose class is unknown) belonging to class A as P(A). We assign the observation to class A if P(A) crosses the classification threshold. A very low threshold will lead to Type I errors while a very high threshold will lead to Type II errors. So, the threshold is identified by comparing the cost of Type I error vs Type II error at different thresholds.\n",
    "\n",
    "So, as we vary the threshold, true and false positive rates change. The ROC curve is obtained by plotting the true positive rate on y-axis against false positive rate on x-axis by varying the threshold settings.\n",
    "\n",
    "\n",
    "AUC, area under the curve is used as a measure to determine the performance of model. AUC gives us the probability with which the model will correctly classify the given observation into one of the two classes. Hence, AUC ranges from 0.5 (Random Classification) to 1 (Perfect classification)."
   ]
  },
  {
   "cell_type": "code",
   "execution_count": 1,
   "metadata": {
    "collapsed": false,
    "deletable": true,
    "editable": true
   },
   "outputs": [
    {
     "data": {
      "image/png": "[encoded data removed]",
      "text/plain": [
       "<IPython.core.display.Image object>"
      ]
     },
     "execution_count": 1,
     "metadata": {},
     "output_type": "execute_result"
    }
   ],
   "source": [
    "from IPython.display import Image\n",
    "Image(\"roc.png\")"
   ]
  },
  {
   "cell_type": "markdown",
   "metadata": {
    "deletable": true,
    "editable": true
   },
   "source": [
    "One simple way to identify optimum classification threshold from ROC Curve is to choose the threshold that minimizes the euclidian distance between the upper left corner and the point on ROC curve. This is ofcourse assuming the simplest case where we have an equal cost to sensitivity and specificity.\n",
    "\n",
    "Identifying optimium threshold from ROC curve requires additional details on the problem namely the net cost function that we want to minimize."
   ]
  },
  {
   "cell_type": "code",
   "execution_count": null,
   "metadata": {
    "collapsed": true,
    "deletable": true,
    "editable": true
   },
   "outputs": [],
   "source": []
  }
 ],
 "metadata": {
  "kernelspec": {
   "display_name": "Python 3",
   "language": "python",
   "name": "python3"
  },
  "language_info": {
   "codemirror_mode": {
    "name": "ipython",
    "version": 3
   },
   "file_extension": ".py",
   "mimetype": "text/x-python",
   "name": "python",
   "nbconvert_exporter": "python",
   "pygments_lexer": "ipython3",
   "version": "3.6.5"
  }
 },
 "nbformat": 4,
 "nbformat_minor": 2
}
