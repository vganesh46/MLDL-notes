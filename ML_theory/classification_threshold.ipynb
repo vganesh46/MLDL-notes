{
 "cells": [
  {
   "cell_type": "markdown",
   "metadata": {},
   "source": [
    "Probablistic classifiers output probabilities of observations belonging to a class. The classification threshold (sometimes known as discrimination threshold) is the cutoff on the predicted probabilities for assigning observations to a class.\n",
    "\n",
    "Say, we have a binary classifier (A/B) that outputs probability of an observation belonging to class A as P(A). Now, whether to assign this observation to class A or B is based on the classification threshold. Identifying the best threshold is a decision to be made in context of the problem depending on our tolerance for errors. We need to define an objective function (loss/cost) associated with the errors and optimize the function to determine the threshold.\n",
    "\n",
    "Standard metrics like accuracy, precision, recall, F1-score are basically a few ways to identify the threshold but to identify the best threshold, we need to use the objective function specific to our objective.\n",
    "\n",
    "I came across an interesting article (http://www.fharrell.com/post/classification/) written by Frank Harrel that outlines the distinction between classification and prediction, and when to use a classifier over probability model in a detailed way. To quote Frank from the article, \"Classification combines prediction and decision making and usurps the decision maker in specifying costs of wrong decisions\""
   ]
  },
  {
   "cell_type": "code",
   "execution_count": null,
   "metadata": {
    "collapsed": true
   },
   "outputs": [],
   "source": []
  }
 ],
 "metadata": {
  "kernelspec": {
   "display_name": "Python 3",
   "language": "python",
   "name": "python3"
  },
  "language_info": {
   "codemirror_mode": {
    "name": "ipython",
    "version": 3
   },
   "file_extension": ".py",
   "mimetype": "text/x-python",
   "name": "python",
   "nbconvert_exporter": "python",
   "pygments_lexer": "ipython3",
   "version": "3.6.5"
  }
 },
 "nbformat": 4,
 "nbformat_minor": 2
}
