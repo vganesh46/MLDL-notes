{
 "cells": [
  {
   "cell_type": "markdown",
   "metadata": {
    "deletable": true,
    "editable": true
   },
   "source": [
    "Once the classifier outputs probabilities or class in a classification problem, the next step is evaluate the performance of the model on test data set. The metrics that we choose to evaluate the model is an important element in the process of modelling as this influences how the performance is measured and compared against other models. Below are a few important metrics that we should be aware of in classifation problems."
   ]
  },
  {
   "cell_type": "markdown",
   "metadata": {
    "deletable": true,
    "editable": true
   },
   "source": [
    "###  Confusion Matrix\n",
    "\n",
    "Confusion Matrix is used in case of binary classification.  Though confusion matrix is not a metric by itself, all the important classification metrics can be derived from the confusion matrix. One can get an intuitive sense of the performance of model from the confusion matrix.\n",
    "\n",
    "Let's say the classifier is modelled to predict whether a credit card transaction is fraud or not. Now, we have two classes of prediction: Fraud (Positive), Legit (Negative). Confusion matrix is then a comparison of predicted classes vs actual classes."
   ]
  },
  {
   "cell_type": "code",
   "execution_count": 9,
   "metadata": {
    "collapsed": false,
    "deletable": true,
    "editable": true
   },
   "outputs": [
    {
     "data": {
      "image/png": "[encoded data removed]",
      "text/plain": [
       "<IPython.core.display.Image object>"
      ]
     },
     "execution_count": 9,
     "metadata": {},
     "output_type": "execute_result"
    }
   ],
   "source": [
    "from IPython.display import Image\n",
    "Image(\"matrix.png\")"
   ]
  },
  {
   "cell_type": "markdown",
   "metadata": {
    "deletable": true,
    "editable": true
   },
   "source": [
    "The four terms within a confusion matrix - True positives (TP), True Negatives (TN), False Positives (FP), False Negatives (FN). These metrics tell us whether our prediction for a particular observation is positive/negative and when compared the result with actual label whether it is true/false.\n",
    "\n",
    "So, the classifier can make two types of errors - FP & FN and an ideal classifier is one with 0 FP & 0 FN. However in real life problems, classifiers make these errors and we choose a model that minimizes these errors. And, what to minimize with higher priority is a decision to be made depending on the objective of classification.\n",
    "\n",
    "For example, we minimize false negatives in case of a disease classifier (diseased: pos, non-diseased: neg) as mis-classifying a diseased person to negative class (non-diseased) is a hugh mistake. And, we minimize false positives in case of a spam classifer (spam: pos, non-spam: neg) as mis-classifying a non-spam email to positive class (spam) is a big mistake.\n",
    "\n",
    "\n",
    "If we consider y & yhat as the actual and predicted classes, we can represent the four classes of a confusion matrix in the another manner.\n",
    "\n",
    "TP:  P(y = 1 & yhat = 1)\n",
    "\n",
    "TN:  P(y = 0 & yhat = 0)\n",
    "\n",
    "FP:  P(y = 0 & yhat = 1)\n",
    "\n",
    "FN:  P(y = 1 & yhat = 0)"
   ]
  },
  {
   "cell_type": "markdown",
   "metadata": {
    "deletable": true,
    "editable": true
   },
   "source": [
    "### 1) Accuracy"
   ]
  },
  {
   "cell_type": "markdown",
   "metadata": {
    "deletable": true,
    "editable": true
   },
   "source": [
    "Accuracy tells us the proportion of true predictions out of all the predictions made by the classifer. Accuracy should never be used as a measure when the classes are inbalanced.\n",
    "\n",
    "Accuracy =  (TP + TN) / (TP + FN + FP + TN)"
   ]
  },
  {
   "cell_type": "markdown",
   "metadata": {
    "deletable": true,
    "editable": true
   },
   "source": [
    "### 2) Precision"
   ]
  },
  {
   "cell_type": "markdown",
   "metadata": {
    "deletable": true,
    "editable": true
   },
   "source": [
    "Precision tells us how precise our positive predictions are. We use precision as a metric, when we want to minimize false positives as we want all our positive predictions to be correct.\n",
    "\n",
    "Precision =  (TP) / (TP+FP)\n",
    "\n",
    "or\n",
    "\n",
    "Precision = P (y = 1 | yhat = 1)"
   ]
  },
  {
   "cell_type": "markdown",
   "metadata": {
    "deletable": true,
    "editable": true
   },
   "source": [
    "### 3) Recall or Sensitivity"
   ]
  },
  {
   "cell_type": "markdown",
   "metadata": {
    "deletable": true,
    "editable": true
   },
   "source": [
    "Recall tells us how much of the positive classes we are about to capture correctly using the classifier. We use recall as a metric, when we want to minimize false negatives as that corresponds to how many positive classes we missed using our classifier. \n",
    "\n",
    "Recall (Sensitivity) =  (TP) / (TP + FN)\n",
    "\n",
    "or \n",
    "\n",
    "Recall (Sensitivity) = P (yhat = 1 | y = 1)"
   ]
  },
  {
   "cell_type": "markdown",
   "metadata": {
    "deletable": true,
    "editable": true
   },
   "source": [
    "### 4) Specificity"
   ]
  },
  {
   "cell_type": "markdown",
   "metadata": {
    "deletable": true,
    "editable": true
   },
   "source": [
    "Specificity is opposite of recall meaning it tells us how many negative classes we are able to capture correctly using the classifier.\n",
    "\n",
    "Specificity =  (TN) / (TN + FP)\n",
    "\n",
    "or\n",
    "\n",
    "Specificity = P (yhat = 0 | y = 0)"
   ]
  },
  {
   "cell_type": "markdown",
   "metadata": {
    "deletable": true,
    "editable": true
   },
   "source": [
    "### 5) F1-score"
   ]
  },
  {
   "cell_type": "markdown",
   "metadata": {
    "deletable": true,
    "editable": true
   },
   "source": [
    "F1-score is a measure that combines Precision & Recall. It is calcuated by taking the harmonic mean of precision and recall as we want to be sensitive to the lowest value of these two metrics i.e, F1-score is closest to min(precision, recall)\n",
    "\n",
    "F1-score = Harmonic Mean (Precision, Recall)"
   ]
  },
  {
   "cell_type": "markdown",
   "metadata": {
    "deletable": true,
    "editable": true
   },
   "source": [
    "F1-score eventhough inclues both precision & recall, it cannot be used as a single metric for all of the classification problems as we can have different tolerances for false positives and false negatives depending on the problem. This is where identifying classification threshold becomes a key. There are two important curves that help us identify this - Precision/Recall curve, ROC Curve. These are discussed in further sections of the blog."
   ]
  },
  {
   "cell_type": "code",
   "execution_count": null,
   "metadata": {
    "collapsed": true,
    "deletable": true,
    "editable": true
   },
   "outputs": [],
   "source": []
  }
 ],
 "metadata": {
  "kernelspec": {
   "display_name": "Python 3",
   "language": "python",
   "name": "python3"
  },
  "language_info": {
   "codemirror_mode": {
    "name": "ipython",
    "version": 3
   },
   "file_extension": ".py",
   "mimetype": "text/x-python",
   "name": "python",
   "nbconvert_exporter": "python",
   "pygments_lexer": "ipython3",
   "version": "3.6.5"
  }
 },
 "nbformat": 4,
 "nbformat_minor": 2
}
